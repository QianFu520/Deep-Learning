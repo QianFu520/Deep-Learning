{
 "cells": [
  {
   "cell_type": "code",
   "execution_count": 1,
   "id": "1834a0d6",
   "metadata": {},
   "outputs": [
    {
     "name": "stdout",
     "output_type": "stream",
     "text": [
      "Requirement already satisfied: d2l in c:\\users\\qfu88\\appdata\\roaming\\python\\python38\\site-packages (1.0.3)\n",
      "Requirement already satisfied: requests==2.31.0 in c:\\users\\qfu88\\anaconda3\\envs\\dojo-env\\lib\\site-packages (from d2l) (2.31.0)\n",
      "Requirement already satisfied: pandas==2.0.3 in c:\\users\\qfu88\\appdata\\roaming\\python\\python38\\site-packages (from d2l) (2.0.3)\n",
      "Requirement already satisfied: matplotlib==3.7.2 in c:\\users\\qfu88\\appdata\\roaming\\python\\python38\\site-packages (from d2l) (3.7.2)\n",
      "Requirement already satisfied: scipy==1.10.1 in c:\\users\\qfu88\\appdata\\roaming\\python\\python38\\site-packages (from d2l) (1.10.1)\n",
      "Requirement already satisfied: numpy==1.23.5 in c:\\users\\qfu88\\anaconda3\\envs\\dojo-env\\lib\\site-packages (from d2l) (1.23.5)\n",
      "Requirement already satisfied: matplotlib-inline==0.1.6 in c:\\users\\qfu88\\anaconda3\\envs\\dojo-env\\lib\\site-packages (from d2l) (0.1.6)\n",
      "Requirement already satisfied: jupyter==1.0.0 in c:\\users\\qfu88\\appdata\\roaming\\python\\python38\\site-packages (from d2l) (1.0.0)\n",
      "Requirement already satisfied: nbconvert in c:\\users\\qfu88\\anaconda3\\envs\\dojo-env\\lib\\site-packages (from jupyter==1.0.0->d2l) (6.5.0)\n",
      "Requirement already satisfied: jupyter-console in c:\\users\\qfu88\\appdata\\roaming\\python\\python38\\site-packages (from jupyter==1.0.0->d2l) (6.6.3)\n",
      "Requirement already satisfied: ipywidgets in c:\\users\\qfu88\\anaconda3\\envs\\dojo-env\\lib\\site-packages (from jupyter==1.0.0->d2l) (8.0.2)\n",
      "Requirement already satisfied: qtconsole in c:\\users\\qfu88\\appdata\\roaming\\python\\python38\\site-packages (from jupyter==1.0.0->d2l) (5.5.0)\n",
      "Requirement already satisfied: notebook in c:\\users\\qfu88\\anaconda3\\envs\\dojo-env\\lib\\site-packages (from jupyter==1.0.0->d2l) (6.4.12)\n",
      "Requirement already satisfied: ipykernel in c:\\users\\qfu88\\anaconda3\\envs\\dojo-env\\lib\\site-packages (from jupyter==1.0.0->d2l) (6.15.2)\n",
      "Requirement already satisfied: pyparsing<3.1,>=2.3.1 in c:\\users\\qfu88\\anaconda3\\envs\\dojo-env\\lib\\site-packages (from matplotlib==3.7.2->d2l) (3.0.9)\n",
      "Requirement already satisfied: fonttools>=4.22.0 in c:\\users\\qfu88\\anaconda3\\envs\\dojo-env\\lib\\site-packages (from matplotlib==3.7.2->d2l) (4.29.1)\n",
      "Requirement already satisfied: importlib-resources>=3.2.0 in c:\\users\\qfu88\\anaconda3\\envs\\dojo-env\\lib\\site-packages (from matplotlib==3.7.2->d2l) (5.13.0)\n",
      "Requirement already satisfied: python-dateutil>=2.7 in c:\\users\\qfu88\\anaconda3\\envs\\dojo-env\\lib\\site-packages (from matplotlib==3.7.2->d2l) (2.8.2)\n",
      "Requirement already satisfied: pillow>=6.2.0 in c:\\users\\qfu88\\anaconda3\\envs\\dojo-env\\lib\\site-packages (from matplotlib==3.7.2->d2l) (9.2.0)\n",
      "Requirement already satisfied: kiwisolver>=1.0.1 in c:\\users\\qfu88\\anaconda3\\envs\\dojo-env\\lib\\site-packages (from matplotlib==3.7.2->d2l) (1.3.2)\n",
      "Requirement already satisfied: packaging>=20.0 in c:\\users\\qfu88\\anaconda3\\envs\\dojo-env\\lib\\site-packages (from matplotlib==3.7.2->d2l) (21.3)\n",
      "Requirement already satisfied: contourpy>=1.0.1 in c:\\users\\qfu88\\appdata\\roaming\\python\\python38\\site-packages (from matplotlib==3.7.2->d2l) (1.1.1)\n",
      "Requirement already satisfied: cycler>=0.10 in c:\\users\\qfu88\\anaconda3\\envs\\dojo-env\\lib\\site-packages (from matplotlib==3.7.2->d2l) (0.11.0)\n",
      "Requirement already satisfied: traitlets in c:\\users\\qfu88\\anaconda3\\envs\\dojo-env\\lib\\site-packages (from matplotlib-inline==0.1.6->d2l) (5.9.0)\n",
      "Requirement already satisfied: pytz>=2020.1 in c:\\users\\qfu88\\anaconda3\\envs\\dojo-env\\lib\\site-packages (from pandas==2.0.3->d2l) (2022.2.1)\n",
      "Requirement already satisfied: tzdata>=2022.1 in c:\\users\\qfu88\\anaconda3\\envs\\dojo-env\\lib\\site-packages (from pandas==2.0.3->d2l) (2022.2)\n",
      "Requirement already satisfied: charset-normalizer<4,>=2 in c:\\users\\qfu88\\anaconda3\\envs\\dojo-env\\lib\\site-packages (from requests==2.31.0->d2l) (2.1.1)\n",
      "Requirement already satisfied: urllib3<3,>=1.21.1 in c:\\users\\qfu88\\anaconda3\\envs\\dojo-env\\lib\\site-packages (from requests==2.31.0->d2l) (1.26.8)\n",
      "Requirement already satisfied: idna<4,>=2.5 in c:\\users\\qfu88\\anaconda3\\envs\\dojo-env\\lib\\site-packages (from requests==2.31.0->d2l) (3.3)\n",
      "Requirement already satisfied: certifi>=2017.4.17 in c:\\users\\qfu88\\anaconda3\\envs\\dojo-env\\lib\\site-packages (from requests==2.31.0->d2l) (2022.6.15)\n",
      "Requirement already satisfied: zipp>=3.1.0 in c:\\users\\qfu88\\anaconda3\\envs\\dojo-env\\lib\\site-packages (from importlib-resources>=3.2.0->matplotlib==3.7.2->d2l) (3.8.1)\n",
      "Requirement already satisfied: six>=1.5 in c:\\users\\qfu88\\anaconda3\\envs\\dojo-env\\lib\\site-packages (from python-dateutil>=2.7->matplotlib==3.7.2->d2l) (1.16.0)\n",
      "Requirement already satisfied: psutil in c:\\users\\qfu88\\anaconda3\\envs\\dojo-env\\lib\\site-packages (from ipykernel->jupyter==1.0.0->d2l) (5.9.2)\n",
      "Requirement already satisfied: pyzmq>=17 in c:\\users\\qfu88\\anaconda3\\envs\\dojo-env\\lib\\site-packages (from ipykernel->jupyter==1.0.0->d2l) (23.2.1)\n",
      "Requirement already satisfied: tornado>=6.1 in c:\\users\\qfu88\\anaconda3\\envs\\dojo-env\\lib\\site-packages (from ipykernel->jupyter==1.0.0->d2l) (6.2)\n",
      "Requirement already satisfied: ipython>=7.23.1 in c:\\users\\qfu88\\anaconda3\\envs\\dojo-env\\lib\\site-packages (from ipykernel->jupyter==1.0.0->d2l) (8.5.0)\n",
      "Requirement already satisfied: jupyter-client>=6.1.12 in c:\\users\\qfu88\\anaconda3\\envs\\dojo-env\\lib\\site-packages (from ipykernel->jupyter==1.0.0->d2l) (7.3.5)\n",
      "Requirement already satisfied: nest-asyncio in c:\\users\\qfu88\\anaconda3\\envs\\dojo-env\\lib\\site-packages (from ipykernel->jupyter==1.0.0->d2l) (1.5.5)\n",
      "Requirement already satisfied: debugpy>=1.0 in c:\\users\\qfu88\\anaconda3\\envs\\dojo-env\\lib\\site-packages (from ipykernel->jupyter==1.0.0->d2l) (1.6.3)\n",
      "Requirement already satisfied: jupyterlab-widgets~=3.0 in c:\\users\\qfu88\\anaconda3\\envs\\dojo-env\\lib\\site-packages (from ipywidgets->jupyter==1.0.0->d2l) (3.0.3)\n",
      "Requirement already satisfied: widgetsnbextension~=4.0 in c:\\users\\qfu88\\anaconda3\\envs\\dojo-env\\lib\\site-packages (from ipywidgets->jupyter==1.0.0->d2l) (4.0.3)\n",
      "Requirement already satisfied: pygments in c:\\users\\qfu88\\anaconda3\\envs\\dojo-env\\lib\\site-packages (from jupyter-console->jupyter==1.0.0->d2l) (2.13.0)\n",
      "Requirement already satisfied: jupyter-core!=5.0.*,>=4.12 in c:\\users\\qfu88\\appdata\\roaming\\python\\python38\\site-packages (from jupyter-console->jupyter==1.0.0->d2l) (5.5.0)\n",
      "Requirement already satisfied: prompt-toolkit>=3.0.30 in c:\\users\\qfu88\\anaconda3\\envs\\dojo-env\\lib\\site-packages (from jupyter-console->jupyter==1.0.0->d2l) (3.0.31)\n",
      "Requirement already satisfied: pandocfilters>=1.4.1 in c:\\users\\qfu88\\anaconda3\\envs\\dojo-env\\lib\\site-packages (from nbconvert->jupyter==1.0.0->d2l) (1.5.0)\n",
      "Requirement already satisfied: mistune<2,>=0.8.1 in c:\\users\\qfu88\\anaconda3\\envs\\dojo-env\\lib\\site-packages (from nbconvert->jupyter==1.0.0->d2l) (0.8.4)\n",
      "Requirement already satisfied: bleach in c:\\users\\qfu88\\anaconda3\\envs\\dojo-env\\lib\\site-packages (from nbconvert->jupyter==1.0.0->d2l) (5.0.1)\n",
      "Requirement already satisfied: nbformat>=5.1 in c:\\users\\qfu88\\anaconda3\\envs\\dojo-env\\lib\\site-packages (from nbconvert->jupyter==1.0.0->d2l) (5.4.0)\n",
      "Requirement already satisfied: entrypoints>=0.2.2 in c:\\users\\qfu88\\anaconda3\\envs\\dojo-env\\lib\\site-packages (from nbconvert->jupyter==1.0.0->d2l) (0.4)\n",
      "Requirement already satisfied: MarkupSafe>=2.0 in c:\\users\\qfu88\\anaconda3\\envs\\dojo-env\\lib\\site-packages (from nbconvert->jupyter==1.0.0->d2l) (2.1.1)\n",
      "Requirement already satisfied: defusedxml in c:\\users\\qfu88\\anaconda3\\envs\\dojo-env\\lib\\site-packages (from nbconvert->jupyter==1.0.0->d2l) (0.7.1)\n",
      "Requirement already satisfied: jinja2>=3.0 in c:\\users\\qfu88\\anaconda3\\envs\\dojo-env\\lib\\site-packages (from nbconvert->jupyter==1.0.0->d2l) (3.1.2)\n",
      "Requirement already satisfied: nbclient>=0.5.0 in c:\\users\\qfu88\\anaconda3\\envs\\dojo-env\\lib\\site-packages (from nbconvert->jupyter==1.0.0->d2l) (0.6.7)\n",
      "Requirement already satisfied: tinycss2 in c:\\users\\qfu88\\anaconda3\\envs\\dojo-env\\lib\\site-packages (from nbconvert->jupyter==1.0.0->d2l) (1.1.1)\n",
      "Requirement already satisfied: jupyterlab-pygments in c:\\users\\qfu88\\anaconda3\\envs\\dojo-env\\lib\\site-packages (from nbconvert->jupyter==1.0.0->d2l) (0.2.2)\n",
      "Requirement already satisfied: beautifulsoup4 in c:\\users\\qfu88\\anaconda3\\envs\\dojo-env\\lib\\site-packages (from nbconvert->jupyter==1.0.0->d2l) (4.11.1)\n",
      "Requirement already satisfied: prometheus-client in c:\\users\\qfu88\\anaconda3\\envs\\dojo-env\\lib\\site-packages (from notebook->jupyter==1.0.0->d2l) (0.14.1)\n",
      "Requirement already satisfied: ipython-genutils in c:\\users\\qfu88\\anaconda3\\envs\\dojo-env\\lib\\site-packages (from notebook->jupyter==1.0.0->d2l) (0.2.0)\n",
      "Requirement already satisfied: Send2Trash>=1.8.0 in c:\\users\\qfu88\\anaconda3\\envs\\dojo-env\\lib\\site-packages (from notebook->jupyter==1.0.0->d2l) (1.8.0)\n",
      "Requirement already satisfied: terminado>=0.8.3 in c:\\users\\qfu88\\anaconda3\\envs\\dojo-env\\lib\\site-packages (from notebook->jupyter==1.0.0->d2l) (0.15.0)\n",
      "Requirement already satisfied: argon2-cffi in c:\\users\\qfu88\\anaconda3\\envs\\dojo-env\\lib\\site-packages (from notebook->jupyter==1.0.0->d2l) (21.3.0)\n",
      "Requirement already satisfied: qtpy>=2.4.0 in c:\\users\\qfu88\\appdata\\roaming\\python\\python38\\site-packages (from qtconsole->jupyter==1.0.0->d2l) (2.4.1)\n",
      "Requirement already satisfied: pickleshare in c:\\users\\qfu88\\anaconda3\\envs\\dojo-env\\lib\\site-packages (from ipython>=7.23.1->ipykernel->jupyter==1.0.0->d2l) (0.7.5)\n",
      "Requirement already satisfied: colorama in c:\\users\\qfu88\\anaconda3\\envs\\dojo-env\\lib\\site-packages (from ipython>=7.23.1->ipykernel->jupyter==1.0.0->d2l) (0.4.5)\n",
      "Requirement already satisfied: backcall in c:\\users\\qfu88\\anaconda3\\envs\\dojo-env\\lib\\site-packages (from ipython>=7.23.1->ipykernel->jupyter==1.0.0->d2l) (0.2.0)\n",
      "Requirement already satisfied: jedi>=0.16 in c:\\users\\qfu88\\anaconda3\\envs\\dojo-env\\lib\\site-packages (from ipython>=7.23.1->ipykernel->jupyter==1.0.0->d2l) (0.18.1)\n",
      "Requirement already satisfied: stack-data in c:\\users\\qfu88\\anaconda3\\envs\\dojo-env\\lib\\site-packages (from ipython>=7.23.1->ipykernel->jupyter==1.0.0->d2l) (0.5.0)\n",
      "Requirement already satisfied: decorator in c:\\users\\qfu88\\anaconda3\\envs\\dojo-env\\lib\\site-packages (from ipython>=7.23.1->ipykernel->jupyter==1.0.0->d2l) (5.1.1)\n",
      "Requirement already satisfied: platformdirs>=2.5 in c:\\users\\qfu88\\anaconda3\\envs\\dojo-env\\lib\\site-packages (from jupyter-core!=5.0.*,>=4.12->jupyter-console->jupyter==1.0.0->d2l) (3.9.0)\n",
      "Requirement already satisfied: pywin32>=300 in c:\\users\\qfu88\\anaconda3\\envs\\dojo-env\\lib\\site-packages (from jupyter-core!=5.0.*,>=4.12->jupyter-console->jupyter==1.0.0->d2l) (303)\n",
      "Requirement already satisfied: fastjsonschema in c:\\users\\qfu88\\anaconda3\\envs\\dojo-env\\lib\\site-packages (from nbformat>=5.1->nbconvert->jupyter==1.0.0->d2l) (2.16.1)\n",
      "Requirement already satisfied: jsonschema>=2.6 in c:\\users\\qfu88\\anaconda3\\envs\\dojo-env\\lib\\site-packages (from nbformat>=5.1->nbconvert->jupyter==1.0.0->d2l) (4.15.0)\n",
      "Requirement already satisfied: wcwidth in c:\\users\\qfu88\\anaconda3\\envs\\dojo-env\\lib\\site-packages (from prompt-toolkit>=3.0.30->jupyter-console->jupyter==1.0.0->d2l) (0.2.5)\n",
      "Requirement already satisfied: pywinpty>=1.1.0 in c:\\users\\qfu88\\anaconda3\\envs\\dojo-env\\lib\\site-packages (from terminado>=0.8.3->notebook->jupyter==1.0.0->d2l) (2.0.7)\n",
      "Requirement already satisfied: argon2-cffi-bindings in c:\\users\\qfu88\\anaconda3\\envs\\dojo-env\\lib\\site-packages (from argon2-cffi->notebook->jupyter==1.0.0->d2l) (21.2.0)\n",
      "Requirement already satisfied: soupsieve>1.2 in c:\\users\\qfu88\\anaconda3\\envs\\dojo-env\\lib\\site-packages (from beautifulsoup4->nbconvert->jupyter==1.0.0->d2l) (2.3.1)\n",
      "Requirement already satisfied: webencodings in c:\\users\\qfu88\\anaconda3\\envs\\dojo-env\\lib\\site-packages (from bleach->nbconvert->jupyter==1.0.0->d2l) (0.5.1)\n",
      "Requirement already satisfied: parso<0.9.0,>=0.8.0 in c:\\users\\qfu88\\anaconda3\\envs\\dojo-env\\lib\\site-packages (from jedi>=0.16->ipython>=7.23.1->ipykernel->jupyter==1.0.0->d2l) (0.8.3)\n",
      "Requirement already satisfied: pyrsistent!=0.17.0,!=0.17.1,!=0.17.2,>=0.14.0 in c:\\users\\qfu88\\anaconda3\\envs\\dojo-env\\lib\\site-packages (from jsonschema>=2.6->nbformat>=5.1->nbconvert->jupyter==1.0.0->d2l) (0.18.1)\n",
      "Requirement already satisfied: pkgutil-resolve-name>=1.3.10 in c:\\users\\qfu88\\anaconda3\\envs\\dojo-env\\lib\\site-packages (from jsonschema>=2.6->nbformat>=5.1->nbconvert->jupyter==1.0.0->d2l) (1.3.10)\n",
      "Requirement already satisfied: attrs>=17.4.0 in c:\\users\\qfu88\\anaconda3\\envs\\dojo-env\\lib\\site-packages (from jsonschema>=2.6->nbformat>=5.1->nbconvert->jupyter==1.0.0->d2l) (22.1.0)\n",
      "Requirement already satisfied: cffi>=1.0.1 in c:\\users\\qfu88\\anaconda3\\envs\\dojo-env\\lib\\site-packages (from argon2-cffi-bindings->argon2-cffi->notebook->jupyter==1.0.0->d2l) (1.15.1)\n",
      "Requirement already satisfied: pure-eval in c:\\users\\qfu88\\anaconda3\\envs\\dojo-env\\lib\\site-packages (from stack-data->ipython>=7.23.1->ipykernel->jupyter==1.0.0->d2l) (0.2.2)\n",
      "Requirement already satisfied: executing in c:\\users\\qfu88\\anaconda3\\envs\\dojo-env\\lib\\site-packages (from stack-data->ipython>=7.23.1->ipykernel->jupyter==1.0.0->d2l) (1.0.0)\n",
      "Requirement already satisfied: asttokens in c:\\users\\qfu88\\anaconda3\\envs\\dojo-env\\lib\\site-packages (from stack-data->ipython>=7.23.1->ipykernel->jupyter==1.0.0->d2l) (2.0.8)\n",
      "Requirement already satisfied: pycparser in c:\\users\\qfu88\\anaconda3\\envs\\dojo-env\\lib\\site-packages (from cffi>=1.0.1->argon2-cffi-bindings->argon2-cffi->notebook->jupyter==1.0.0->d2l) (2.21)\n"
     ]
    }
   ],
   "source": [
    "!pip install --user d2l\n",
    "\n"
   ]
  },
  {
   "cell_type": "code",
   "execution_count": 2,
   "id": "c23e6274",
   "metadata": {},
   "outputs": [
    {
     "name": "stderr",
     "output_type": "stream",
     "text": [
      "[nltk_data] Downloading package punkt to\n",
      "[nltk_data]     C:\\Users\\qfu88\\AppData\\Roaming\\nltk_data...\n",
      "[nltk_data]   Package punkt is already up-to-date!\n"
     ]
    }
   ],
   "source": [
    "import collections\n",
    "import math\n",
    "import torch\n",
    "from torch import nn\n",
    "from d2l import torch as d2l\n",
    "import random\n",
    "import matplotlib.pyplot as plt\n",
    "from tqdm import tqdm\n",
    "import pandas as pd\n",
    "import re\n",
    "import nltk\n",
    "nltk.download('punkt')\n",
    "from collections import Counter\n",
    "from sklearn.model_selection import train_test_split\n",
    "from torch.utils.data import Dataset, DataLoader\n",
    "import copy\n",
    "torch.set_num_threads(4)\n",
    "torch.set_num_interop_threads(4)"
   ]
  },
  {
   "cell_type": "markdown",
   "id": "94ef5763",
   "metadata": {},
   "source": [
    "## Loading Data"
   ]
  },
  {
   "cell_type": "code",
   "execution_count": 3,
   "id": "5114d239",
   "metadata": {},
   "outputs": [],
   "source": [
    "train_csv=pd.read_csv('Data/train_small.csv')\n",
    "val_csv=pd.read_csv('Data/val (1).csv')\n",
    "test_csv=pd.read_csv('Data/test (1).csv')"
   ]
  },
  {
   "cell_type": "code",
   "execution_count": null,
   "id": "e90752b5",
   "metadata": {},
   "outputs": [],
   "source": []
  }
 ],
 "metadata": {
  "kernelspec": {
   "display_name": "Python 3 (ipykernel)",
   "language": "python",
   "name": "python3"
  },
  "language_info": {
   "codemirror_mode": {
    "name": "ipython",
    "version": 3
   },
   "file_extension": ".py",
   "mimetype": "text/x-python",
   "name": "python",
   "nbconvert_exporter": "python",
   "pygments_lexer": "ipython3",
   "version": "3.8.13"
  },
  "toc": {
   "base_numbering": 1,
   "nav_menu": {},
   "number_sections": false,
   "sideBar": true,
   "skip_h1_title": false,
   "title_cell": "Table of Contents",
   "title_sidebar": "Contents",
   "toc_cell": false,
   "toc_position": {},
   "toc_section_display": true,
   "toc_window_display": false
  }
 },
 "nbformat": 4,
 "nbformat_minor": 5
}
